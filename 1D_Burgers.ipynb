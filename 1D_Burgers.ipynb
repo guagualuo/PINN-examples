{
 "cells": [
  {
   "cell_type": "code",
   "execution_count": 19,
   "id": "surface-seminar",
   "metadata": {
    "ExecuteTime": {
     "end_time": "2021-10-29T15:34:48.417256Z",
     "start_time": "2021-10-29T15:34:48.414060Z"
    }
   },
   "outputs": [],
   "source": [
    "import torch\n",
    "import torch.nn as nn\n",
    "from torch.autograd import Variable\n",
    "device = torch.device(\"cuda:0\" if torch.cuda.is_available() else \"cpu\")\n",
    "\n",
    "import numpy as np"
   ]
  },
  {
   "cell_type": "markdown",
   "id": "extraordinary-favor",
   "metadata": {},
   "source": [
    "### Define a feedforward network"
   ]
  },
  {
   "cell_type": "code",
   "execution_count": 7,
   "id": "resistant-alloy",
   "metadata": {
    "ExecuteTime": {
     "end_time": "2021-10-29T15:24:32.797453Z",
     "start_time": "2021-10-29T15:24:32.791967Z"
    }
   },
   "outputs": [],
   "source": [
    "from collections import OrderedDict\n",
    "\n",
    "layers = []\n",
    "n_hidden = 5\n",
    "n_nodes = 5\n",
    "for i in range(n_hidden+2):\n",
    "    if i == 0:\n",
    "        layers.append(('input', nn.Linear(2, n_nodes)))\n",
    "    elif i == n_hidden+1:\n",
    "        layers.append(('output', nn.Linear(n_nodes, 1)))\n",
    "    else:\n",
    "        layers.append(('hidden_{}'.format(i), nn.Linear(n_nodes, n_nodes)))\n",
    "net = nn.Sequential(OrderedDict(layers))\n",
    "net = net.to(device)"
   ]
  },
  {
   "cell_type": "code",
   "execution_count": 20,
   "id": "tropical-yahoo",
   "metadata": {
    "ExecuteTime": {
     "end_time": "2021-10-29T15:43:29.067796Z",
     "start_time": "2021-10-29T15:43:29.064689Z"
    }
   },
   "outputs": [],
   "source": [
    "mse_cost_function = torch.nn.MSELoss()\n",
    "optimizer = torch.optim.LBFGS(net.parameters())"
   ]
  },
  {
   "cell_type": "code",
   "execution_count": null,
   "id": "smaller-dallas",
   "metadata": {},
   "outputs": [],
   "source": []
  }
 ],
 "metadata": {
  "kernelspec": {
   "display_name": "Python 3",
   "language": "python",
   "name": "python3"
  },
  "language_info": {
   "codemirror_mode": {
    "name": "ipython",
    "version": 3
   },
   "file_extension": ".py",
   "mimetype": "text/x-python",
   "name": "python",
   "nbconvert_exporter": "python",
   "pygments_lexer": "ipython3",
   "version": "3.9.7"
  },
  "toc": {
   "base_numbering": 1,
   "nav_menu": {},
   "number_sections": true,
   "sideBar": true,
   "skip_h1_title": false,
   "title_cell": "Table of Contents",
   "title_sidebar": "Contents",
   "toc_cell": false,
   "toc_position": {},
   "toc_section_display": true,
   "toc_window_display": false
  },
  "varInspector": {
   "cols": {
    "lenName": 16,
    "lenType": 16,
    "lenVar": 40
   },
   "kernels_config": {
    "python": {
     "delete_cmd_postfix": "",
     "delete_cmd_prefix": "del ",
     "library": "var_list.py",
     "varRefreshCmd": "print(var_dic_list())"
    },
    "r": {
     "delete_cmd_postfix": ") ",
     "delete_cmd_prefix": "rm(",
     "library": "var_list.r",
     "varRefreshCmd": "cat(var_dic_list()) "
    }
   },
   "types_to_exclude": [
    "module",
    "function",
    "builtin_function_or_method",
    "instance",
    "_Feature"
   ],
   "window_display": false
  }
 },
 "nbformat": 4,
 "nbformat_minor": 5
}
